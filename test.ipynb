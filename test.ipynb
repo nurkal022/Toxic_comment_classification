{
 "cells": [
  {
   "cell_type": "code",
   "execution_count": 9,
   "id": "579aab5a",
   "metadata": {},
   "outputs": [],
   "source": [
    "import re\n",
    "import numpy as np\n",
    "from nltk.stem.snowball import SnowballStemmer\n",
    "from gensim.models import Word2Vec\n",
    "from joblib import load\n",
    "import nltk\n",
    "\n",
    "# Убедитесь, что NLTK и его компоненты для русского языка установлены\n",
    "# nltk.download('stopwords') # Раскомментируйте, если необходимо загрузить стоп-слова\n",
    "\n",
    "from nltk.corpus import stopwords\n",
    "\n",
    "# Загрузка моделей (замените пути на актуальные для ваших файлов)\n",
    "model_lr = load('models/best_model_lr.joblib')\n",
    "model_rf = load('models/best_model_rf.joblib')\n",
    "model_xgb = load('models/best_model_xgb.joblib')\n",
    "\n",
    "# Загрузка модели Word2Vec\n",
    "word2vec_model = Word2Vec.load(\"word2vec.model\")\n",
    "\n",
    "# Определение стоп-слов\n",
    "stop_words = set(stopwords.words('russian'))\n",
    "\n",
    "# Инициализация стеммера\n",
    "stemmer = SnowballStemmer('russian')\n",
    "\n",
    "def clean_text(text):\n",
    "    # Очистка и стемминг\n",
    "    text = re.sub(r'\\W', ' ', str(text))\n",
    "    text = text.lower()\n",
    "    text = re.sub(r'\\s+[а-яА-Я]\\s+', ' ', text)\n",
    "    text = re.sub(r'\\^[а-яА-Я]\\s+', ' ', text) \n",
    "    text = re.sub(r'\\s+', ' ', text, flags=re.I)\n",
    "    text = re.sub(r'^b\\s+', '', text)\n",
    "    return ' '.join([stemmer.stem(word) for word in text.split() if word not in stop_words])\n",
    "\n",
    "def comment_to_avg_vector(comment, model):\n",
    "    words = comment.split()\n",
    "    word_vectors = [model.wv[word] for word in words if word in model.wv]\n",
    "    \n",
    "    if len(word_vectors) == 0:\n",
    "        return np.zeros(model.vector_size)\n",
    "    else:\n",
    "        return np.mean(word_vectors, axis=0)\n",
    "\n",
    "def predict_class(text):\n",
    "    prepared_text = clean_text(text)\n",
    "    text_vector = comment_to_avg_vector(prepared_text, word2vec_model).reshape(1, -1) # Для одного примера, переформатируем в 2D массив\n",
    "    predictions = {\n",
    "        'Logistic Regression': model_lr.predict(text_vector)[0],\n",
    "        'Random Forest': model_rf.predict(text_vector)[0],\n",
    "        'XGBoost': model_xgb.predict(text_vector)[0]\n",
    "    }\n",
    "    return predictions\n",
    "\n"
   ]
  },
  {
   "cell_type": "code",
   "execution_count": 15,
   "id": "5623a928",
   "metadata": {},
   "outputs": [
    {
     "name": "stdout",
     "output_type": "stream",
     "text": [
      "{'Logistic Regression': 1.0, 'Random Forest': 0.0, 'XGBoost': 1}\n"
     ]
    }
   ],
   "source": [
    "# Пример использования\n",
    "text = \"\"\n",
    "predictions = predict_class(text)\n",
    "print(predictions)"
   ]
  },
  {
   "cell_type": "code",
   "execution_count": null,
   "id": "65414b06",
   "metadata": {},
   "outputs": [],
   "source": []
  }
 ],
 "metadata": {
  "kernelspec": {
   "display_name": "Python 3 (ipykernel)",
   "language": "python",
   "name": "python3"
  },
  "language_info": {
   "codemirror_mode": {
    "name": "ipython",
    "version": 3
   },
   "file_extension": ".py",
   "mimetype": "text/x-python",
   "name": "python",
   "nbconvert_exporter": "python",
   "pygments_lexer": "ipython3",
   "version": "3.9.13"
  }
 },
 "nbformat": 4,
 "nbformat_minor": 5
}
